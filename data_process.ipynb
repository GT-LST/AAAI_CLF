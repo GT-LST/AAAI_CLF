{
 "cells": [
  {
   "cell_type": "code",
   "execution_count": 1,
   "metadata": {},
   "outputs": [],
   "source": [
    "import pandas as pd\n",
    "import numpy as np"
   ]
  },
  {
   "cell_type": "code",
   "execution_count": 18,
   "metadata": {},
   "outputs": [],
   "source": [
    "data_path = './claff-offmychest-master/data/'"
   ]
  },
  {
   "cell_type": "code",
   "execution_count": 19,
   "metadata": {},
   "outputs": [],
   "source": [
    "test_data_path = data_path + 'test_data/unlabeled_test_set.csv'"
   ]
  },
  {
   "cell_type": "code",
   "execution_count": 20,
   "metadata": {},
   "outputs": [],
   "source": [
    "training_data = data_path + 'training_data/labeled_training_set.csv'"
   ]
  },
  {
   "cell_type": "code",
   "execution_count": 21,
   "metadata": {},
   "outputs": [],
   "source": [
    "raw_data = pd.read_csv(training_data)"
   ]
  },
  {
   "cell_type": "code",
   "execution_count": 22,
   "metadata": {},
   "outputs": [
    {
     "data": {
      "text/html": [
       "<div>\n",
       "<style scoped>\n",
       "    .dataframe tbody tr th:only-of-type {\n",
       "        vertical-align: middle;\n",
       "    }\n",
       "\n",
       "    .dataframe tbody tr th {\n",
       "        vertical-align: top;\n",
       "    }\n",
       "\n",
       "    .dataframe thead th {\n",
       "        text-align: right;\n",
       "    }\n",
       "</style>\n",
       "<table border=\"1\" class=\"dataframe\">\n",
       "  <thead>\n",
       "    <tr style=\"text-align: right;\">\n",
       "      <th></th>\n",
       "      <th>sentenceid</th>\n",
       "      <th>author</th>\n",
       "      <th>nchar</th>\n",
       "      <th>created_utc</th>\n",
       "      <th>score</th>\n",
       "      <th>subreddit</th>\n",
       "      <th>label</th>\n",
       "      <th>full_text</th>\n",
       "      <th>wordcount</th>\n",
       "      <th>id</th>\n",
       "      <th>Emotional_disclosure</th>\n",
       "      <th>Information_disclosure</th>\n",
       "      <th>Support</th>\n",
       "      <th>General_support</th>\n",
       "      <th>Info_support</th>\n",
       "      <th>Emo_support</th>\n",
       "    </tr>\n",
       "  </thead>\n",
       "  <tbody>\n",
       "    <tr>\n",
       "      <td>0</td>\n",
       "      <td>36.0</td>\n",
       "      <td>LeniaLilac</td>\n",
       "      <td>135</td>\n",
       "      <td>1532518450</td>\n",
       "      <td>81</td>\n",
       "      <td>offmychest</td>\n",
       "      <td>husband boyfriend</td>\n",
       "      <td>Get two nice notebooks and write it down for e...</td>\n",
       "      <td>12</td>\n",
       "      <td>91px39</td>\n",
       "      <td>0</td>\n",
       "      <td>0</td>\n",
       "      <td>0</td>\n",
       "      <td>0</td>\n",
       "      <td>0</td>\n",
       "      <td>0</td>\n",
       "    </tr>\n",
       "    <tr>\n",
       "      <td>1</td>\n",
       "      <td>47.0</td>\n",
       "      <td>call-me-mama-t</td>\n",
       "      <td>115</td>\n",
       "      <td>1533351628</td>\n",
       "      <td>59</td>\n",
       "      <td>offmychest</td>\n",
       "      <td>husband boyfriend</td>\n",
       "      <td>I&lt;U+0092&gt;m sobbing reading this thread!</td>\n",
       "      <td>5</td>\n",
       "      <td>91px39</td>\n",
       "      <td>1</td>\n",
       "      <td>1</td>\n",
       "      <td>0</td>\n",
       "      <td>0</td>\n",
       "      <td>0</td>\n",
       "      <td>0</td>\n",
       "    </tr>\n",
       "    <tr>\n",
       "      <td>2</td>\n",
       "      <td>57.0</td>\n",
       "      <td>BluebirdOnAHill</td>\n",
       "      <td>46</td>\n",
       "      <td>1532513532</td>\n",
       "      <td>35</td>\n",
       "      <td>offmychest</td>\n",
       "      <td>husband boyfriend</td>\n",
       "      <td>Hope you have a nice day</td>\n",
       "      <td>6</td>\n",
       "      <td>91px39</td>\n",
       "      <td>0</td>\n",
       "      <td>0</td>\n",
       "      <td>1</td>\n",
       "      <td>1</td>\n",
       "      <td>0</td>\n",
       "      <td>0</td>\n",
       "    </tr>\n",
       "    <tr>\n",
       "      <td>3</td>\n",
       "      <td>58.0</td>\n",
       "      <td>MenudoMenudo</td>\n",
       "      <td>157</td>\n",
       "      <td>1532519594</td>\n",
       "      <td>34</td>\n",
       "      <td>offmychest</td>\n",
       "      <td>husband boyfriend</td>\n",
       "      <td>My wife came in when I was around half way thr...</td>\n",
       "      <td>33</td>\n",
       "      <td>91px39</td>\n",
       "      <td>1</td>\n",
       "      <td>1</td>\n",
       "      <td>0</td>\n",
       "      <td>0</td>\n",
       "      <td>0</td>\n",
       "      <td>0</td>\n",
       "    </tr>\n",
       "    <tr>\n",
       "      <td>4</td>\n",
       "      <td>74.0</td>\n",
       "      <td>modistabeat</td>\n",
       "      <td>191</td>\n",
       "      <td>1533722813</td>\n",
       "      <td>30</td>\n",
       "      <td>offmychest</td>\n",
       "      <td>husband boyfriend</td>\n",
       "      <td>I am crying a lot of happy tears right now.</td>\n",
       "      <td>10</td>\n",
       "      <td>91px39</td>\n",
       "      <td>1</td>\n",
       "      <td>0</td>\n",
       "      <td>0</td>\n",
       "      <td>0</td>\n",
       "      <td>0</td>\n",
       "      <td>0</td>\n",
       "    </tr>\n",
       "  </tbody>\n",
       "</table>\n",
       "</div>"
      ],
      "text/plain": [
       "   sentenceid           author  nchar  created_utc  score   subreddit  \\\n",
       "0        36.0       LeniaLilac    135   1532518450     81  offmychest   \n",
       "1        47.0   call-me-mama-t    115   1533351628     59  offmychest   \n",
       "2        57.0  BluebirdOnAHill     46   1532513532     35  offmychest   \n",
       "3        58.0     MenudoMenudo    157   1532519594     34  offmychest   \n",
       "4        74.0      modistabeat    191   1533722813     30  offmychest   \n",
       "\n",
       "               label                                          full_text  \\\n",
       "0  husband boyfriend  Get two nice notebooks and write it down for e...   \n",
       "1  husband boyfriend            I<U+0092>m sobbing reading this thread!   \n",
       "2  husband boyfriend                           Hope you have a nice day   \n",
       "3  husband boyfriend  My wife came in when I was around half way thr...   \n",
       "4  husband boyfriend        I am crying a lot of happy tears right now.   \n",
       "\n",
       "   wordcount      id  Emotional_disclosure  Information_disclosure  Support  \\\n",
       "0         12  91px39                     0                       0        0   \n",
       "1          5  91px39                     1                       1        0   \n",
       "2          6  91px39                     0                       0        1   \n",
       "3         33  91px39                     1                       1        0   \n",
       "4         10  91px39                     1                       0        0   \n",
       "\n",
       "   General_support  Info_support  Emo_support  \n",
       "0                0             0            0  \n",
       "1                0             0            0  \n",
       "2                1             0            0  \n",
       "3                0             0            0  \n",
       "4                0             0            0  "
      ]
     },
     "execution_count": 22,
     "metadata": {},
     "output_type": "execute_result"
    }
   ],
   "source": [
    "raw_data.head()"
   ]
  },
  {
   "cell_type": "code",
   "execution_count": 23,
   "metadata": {},
   "outputs": [],
   "source": [
    "# sentenceid, label, full_text, Emotional_disclosure, Information_disclosure, Support, General_support, Info_support, Emo_support\n",
    "\n"
   ]
  },
  {
   "cell_type": "code",
   "execution_count": 25,
   "metadata": {},
   "outputs": [],
   "source": [
    "labeled_data = {'sentenceid':[], 'label':[], 'full_text':[], 'label':[]}"
   ]
  },
  {
   "cell_type": "code",
   "execution_count": 30,
   "metadata": {},
   "outputs": [],
   "source": [
    "id2labeled_data = {}"
   ]
  },
  {
   "cell_type": "code",
   "execution_count": 26,
   "metadata": {},
   "outputs": [],
   "source": [
    "label_mapping = {'Emotional_disclosure':0, 'Information_disclosure':1, 'Support':2, 'General_support': 3, 'Info_support':4, 'Emo_support':5}"
   ]
  },
  {
   "cell_type": "code",
   "execution_count": 27,
   "metadata": {},
   "outputs": [],
   "source": [
    "array_data = np.array(raw_data)"
   ]
  },
  {
   "cell_type": "code",
   "execution_count": 28,
   "metadata": {},
   "outputs": [
    {
     "data": {
      "text/plain": [
       "array([[36.0, 'LeniaLilac', 135, 1532518450, 81, 'offmychest',\n",
       "        'husband boyfriend',\n",
       "        'Get two nice notebooks and write it down for each of them.', 12,\n",
       "        '91px39', 0, 0, 0, 0, 0, 0],\n",
       "       [47.0, 'call-me-mama-t', 115, 1533351628, 59, 'offmychest',\n",
       "        'husband boyfriend', 'I<U+0092>m sobbing reading this thread!',\n",
       "        5, '91px39', 1, 1, 0, 0, 0, 0],\n",
       "       [57.0, 'BluebirdOnAHill', 46, 1532513532, 35, 'offmychest',\n",
       "        'husband boyfriend', 'Hope you have a nice day', 6, '91px39', 0,\n",
       "        0, 1, 1, 0, 0],\n",
       "       [58.0, 'MenudoMenudo', 157, 1532519594, 34, 'offmychest',\n",
       "        'husband boyfriend',\n",
       "        \"My wife came in when I was around half way through this and asked why I was all choked up and watery eyed, so we read it together and now we're both crying.\",\n",
       "        33, '91px39', 1, 1, 0, 0, 0, 0],\n",
       "       [74.0, 'modistabeat', 191, 1533722813, 30, 'offmychest',\n",
       "        'husband boyfriend',\n",
       "        'I am crying a lot of happy tears right now.', 10, '91px39', 1,\n",
       "        0, 0, 0, 0, 0]], dtype=object)"
      ]
     },
     "execution_count": 28,
     "metadata": {},
     "output_type": "execute_result"
    }
   ],
   "source": [
    "array_data[:5]"
   ]
  },
  {
   "cell_type": "code",
   "execution_count": null,
   "metadata": {},
   "outputs": [],
   "source": []
  },
  {
   "cell_type": "code",
   "execution_count": 32,
   "metadata": {},
   "outputs": [],
   "source": [
    "for i in range(0, len(array_data)):\n",
    "    sentenceid = array_data[i][0]\n",
    "    label = array_data[i][6]\n",
    "    full_text = array_data[i][7]\n",
    "    \n",
    "    label_set = []\n",
    "    for j in range(10, 15):\n",
    "        if array_data[i][j] == 1:\n",
    "            label_set.append(j-10)\n",
    "    id2labeled_data[sentenceid] = [label, full_text, label_set]"
   ]
  },
  {
   "cell_type": "code",
   "execution_count": 33,
   "metadata": {},
   "outputs": [
    {
     "data": {
      "text/plain": [
       "['husband boyfriend',\n",
       " 'Get two nice notebooks and write it down for each of them.',\n",
       " []]"
      ]
     },
     "execution_count": 33,
     "metadata": {},
     "output_type": "execute_result"
    }
   ],
   "source": [
    "id2labeled_data[36]"
   ]
  },
  {
   "cell_type": "code",
   "execution_count": 34,
   "metadata": {},
   "outputs": [
    {
     "data": {
      "text/plain": [
       "['husband boyfriend', 'I<U+0092>m sobbing reading this thread!', [0, 1]]"
      ]
     },
     "execution_count": 34,
     "metadata": {},
     "output_type": "execute_result"
    }
   ],
   "source": [
    "id2labeled_data[47]"
   ]
  },
  {
   "cell_type": "code",
   "execution_count": 35,
   "metadata": {},
   "outputs": [],
   "source": [
    "import pickle\n",
    "with open('./processed_data/labeled_data.pkl', 'wb') as f:\n",
    "    pickle.dump(id2labeled_data, f)"
   ]
  },
  {
   "cell_type": "code",
   "execution_count": 46,
   "metadata": {},
   "outputs": [
    {
     "data": {
      "text/plain": [
       "12860"
      ]
     },
     "execution_count": 46,
     "metadata": {},
     "output_type": "execute_result"
    }
   ],
   "source": [
    "len(id2labeled_data)"
   ]
  },
  {
   "cell_type": "code",
   "execution_count": 49,
   "metadata": {},
   "outputs": [
    {
     "data": {
      "text/plain": [
       "[36.0, 47.0, 57.0, 58.0, 74.0, 82.0, 150.0, 153.0, 163.0, 170.0]"
      ]
     },
     "execution_count": 49,
     "metadata": {},
     "output_type": "execute_result"
    }
   ],
   "source": [
    "list(id2labeled_data.keys())[:10]"
   ]
  },
  {
   "cell_type": "code",
   "execution_count": 50,
   "metadata": {},
   "outputs": [
    {
     "data": {
      "text/plain": [
       "['husband boyfriend',\n",
       " 'Get two nice notebooks and write it down for each of them.',\n",
       " []]"
      ]
     },
     "execution_count": 50,
     "metadata": {},
     "output_type": "execute_result"
    }
   ],
   "source": [
    "id2labeled_data[36]"
   ]
  },
  {
   "cell_type": "code",
   "execution_count": 36,
   "metadata": {},
   "outputs": [],
   "source": [
    "raw_data = pd.read_csv(test_data_path)"
   ]
  },
  {
   "cell_type": "code",
   "execution_count": 37,
   "metadata": {},
   "outputs": [
    {
     "data": {
      "text/html": [
       "<div>\n",
       "<style scoped>\n",
       "    .dataframe tbody tr th:only-of-type {\n",
       "        vertical-align: middle;\n",
       "    }\n",
       "\n",
       "    .dataframe tbody tr th {\n",
       "        vertical-align: top;\n",
       "    }\n",
       "\n",
       "    .dataframe thead th {\n",
       "        text-align: right;\n",
       "    }\n",
       "</style>\n",
       "<table border=\"1\" class=\"dataframe\">\n",
       "  <thead>\n",
       "    <tr style=\"text-align: right;\">\n",
       "      <th></th>\n",
       "      <th>sentenceid</th>\n",
       "      <th>author</th>\n",
       "      <th>nchar</th>\n",
       "      <th>created_utc</th>\n",
       "      <th>score</th>\n",
       "      <th>subreddit</th>\n",
       "      <th>label</th>\n",
       "      <th>full_text</th>\n",
       "      <th>wordcount</th>\n",
       "      <th>id</th>\n",
       "    </tr>\n",
       "  </thead>\n",
       "  <tbody>\n",
       "    <tr>\n",
       "      <td>0</td>\n",
       "      <td>66026</td>\n",
       "      <td>blargghonkk</td>\n",
       "      <td>357</td>\n",
       "      <td>1491057453</td>\n",
       "      <td>2</td>\n",
       "      <td>offmychest</td>\n",
       "      <td>husband wife</td>\n",
       "      <td>Wouldn't want the baby to fall apart on the hi...</td>\n",
       "      <td>10</td>\n",
       "      <td>62hoet</td>\n",
       "    </tr>\n",
       "    <tr>\n",
       "      <td>1</td>\n",
       "      <td>96956</td>\n",
       "      <td>Spikekuji</td>\n",
       "      <td>100</td>\n",
       "      <td>1531173984</td>\n",
       "      <td>1</td>\n",
       "      <td>offmychest</td>\n",
       "      <td>wife</td>\n",
       "      <td>You&lt;U+0092&gt;d be in good company there.</td>\n",
       "      <td>6</td>\n",
       "      <td>8xa92s</td>\n",
       "    </tr>\n",
       "    <tr>\n",
       "      <td>2</td>\n",
       "      <td>238262</td>\n",
       "      <td>maximize123</td>\n",
       "      <td>279</td>\n",
       "      <td>1501968080</td>\n",
       "      <td>1</td>\n",
       "      <td>CasualConversation</td>\n",
       "      <td>husband</td>\n",
       "      <td>What a cliche, but as a 20 year old in college...</td>\n",
       "      <td>22</td>\n",
       "      <td>6ru5kk</td>\n",
       "    </tr>\n",
       "    <tr>\n",
       "      <td>3</td>\n",
       "      <td>381299</td>\n",
       "      <td>kilawl</td>\n",
       "      <td>2353</td>\n",
       "      <td>1507209034</td>\n",
       "      <td>1</td>\n",
       "      <td>CasualConversation</td>\n",
       "      <td>boyfriend</td>\n",
       "      <td>Well, when I thought I lost my best friend for...</td>\n",
       "      <td>14</td>\n",
       "      <td>74alb3</td>\n",
       "    </tr>\n",
       "    <tr>\n",
       "      <td>4</td>\n",
       "      <td>30238</td>\n",
       "      <td>Munkyed</td>\n",
       "      <td>914</td>\n",
       "      <td>1533323463</td>\n",
       "      <td>3</td>\n",
       "      <td>offmychest</td>\n",
       "      <td>husband wife</td>\n",
       "      <td>I love my brother and all twelve of his kids.</td>\n",
       "      <td>10</td>\n",
       "      <td>944icl</td>\n",
       "    </tr>\n",
       "  </tbody>\n",
       "</table>\n",
       "</div>"
      ],
      "text/plain": [
       "   sentenceid       author  nchar  created_utc  score           subreddit  \\\n",
       "0       66026  blargghonkk    357   1491057453      2          offmychest   \n",
       "1       96956    Spikekuji    100   1531173984      1          offmychest   \n",
       "2      238262  maximize123    279   1501968080      1  CasualConversation   \n",
       "3      381299       kilawl   2353   1507209034      1  CasualConversation   \n",
       "4       30238      Munkyed    914   1533323463      3          offmychest   \n",
       "\n",
       "          label                                          full_text  wordcount  \\\n",
       "0  husband wife  Wouldn't want the baby to fall apart on the hi...         10   \n",
       "1          wife             You<U+0092>d be in good company there.          6   \n",
       "2       husband  What a cliche, but as a 20 year old in college...         22   \n",
       "3     boyfriend  Well, when I thought I lost my best friend for...         14   \n",
       "4  husband wife      I love my brother and all twelve of his kids.         10   \n",
       "\n",
       "       id  \n",
       "0  62hoet  \n",
       "1  8xa92s  \n",
       "2  6ru5kk  \n",
       "3  74alb3  \n",
       "4  944icl  "
      ]
     },
     "execution_count": 37,
     "metadata": {},
     "output_type": "execute_result"
    }
   ],
   "source": [
    "raw_data.head()"
   ]
  },
  {
   "cell_type": "code",
   "execution_count": 38,
   "metadata": {},
   "outputs": [],
   "source": [
    "text_unlabeled_data = {}\n",
    "for i in range(0, len(raw_data['sentenceid'])):\n",
    "    text_unlabeled_data[raw_data['sentenceid'][i]] = [raw_data['label'][i], raw_data['full_text'][i]]"
   ]
  },
  {
   "cell_type": "code",
   "execution_count": 39,
   "metadata": {},
   "outputs": [
    {
     "data": {
      "text/plain": [
       "['husband wife', \"Wouldn't want the baby to fall apart on the highway.\"]"
      ]
     },
     "execution_count": 39,
     "metadata": {},
     "output_type": "execute_result"
    }
   ],
   "source": [
    "text_unlabeled_data[66026]"
   ]
  },
  {
   "cell_type": "code",
   "execution_count": 40,
   "metadata": {},
   "outputs": [],
   "source": [
    "import pickle\n",
    "with open('./processed_data/test_unlabeled_data.pkl', 'wb') as f:\n",
    "    pickle.dump(text_unlabeled_data, f)"
   ]
  },
  {
   "cell_type": "code",
   "execution_count": 45,
   "metadata": {},
   "outputs": [
    {
     "data": {
      "text/plain": [
       "5000"
      ]
     },
     "execution_count": 45,
     "metadata": {},
     "output_type": "execute_result"
    }
   ],
   "source": [
    "len(text_unlabeled_data)"
   ]
  },
  {
   "cell_type": "code",
   "execution_count": null,
   "metadata": {},
   "outputs": [],
   "source": []
  },
  {
   "cell_type": "code",
   "execution_count": 53,
   "metadata": {},
   "outputs": [],
   "source": [
    "unlabeled_data_path = data_path + 'unlabeled_data/comments_score_unlabeled.csv'"
   ]
  },
  {
   "cell_type": "code",
   "execution_count": 54,
   "metadata": {},
   "outputs": [
    {
     "data": {
      "text/html": [
       "<div>\n",
       "<style scoped>\n",
       "    .dataframe tbody tr th:only-of-type {\n",
       "        vertical-align: middle;\n",
       "    }\n",
       "\n",
       "    .dataframe tbody tr th {\n",
       "        vertical-align: top;\n",
       "    }\n",
       "\n",
       "    .dataframe thead th {\n",
       "        text-align: right;\n",
       "    }\n",
       "</style>\n",
       "<table border=\"1\" class=\"dataframe\">\n",
       "  <thead>\n",
       "    <tr style=\"text-align: right;\">\n",
       "      <th></th>\n",
       "      <th>indexid</th>\n",
       "      <th>author</th>\n",
       "      <th>nchar</th>\n",
       "      <th>created_utc</th>\n",
       "      <th>score</th>\n",
       "      <th>subreddit</th>\n",
       "      <th>label</th>\n",
       "      <th>V1</th>\n",
       "      <th>wordcount</th>\n",
       "      <th>id</th>\n",
       "      <th>sentenceid</th>\n",
       "    </tr>\n",
       "  </thead>\n",
       "  <tbody>\n",
       "    <tr>\n",
       "      <td>0</td>\n",
       "      <td>0.0</td>\n",
       "      <td>stinkbugsinfest</td>\n",
       "      <td>174</td>\n",
       "      <td>1.532508e+09</td>\n",
       "      <td>1906</td>\n",
       "      <td>offmychest</td>\n",
       "      <td>husband boyfriend</td>\n",
       "      <td>You are quite the writer and have a deep sense...</td>\n",
       "      <td>15</td>\n",
       "      <td>91px39</td>\n",
       "      <td>1</td>\n",
       "    </tr>\n",
       "    <tr>\n",
       "      <td>1</td>\n",
       "      <td>0.0</td>\n",
       "      <td>stinkbugsinfest</td>\n",
       "      <td>174</td>\n",
       "      <td>1.532508e+09</td>\n",
       "      <td>1906</td>\n",
       "      <td>offmychest</td>\n",
       "      <td>husband boyfriend</td>\n",
       "      <td>May your life continue to be rewarding.</td>\n",
       "      <td>7</td>\n",
       "      <td>91px39</td>\n",
       "      <td>2</td>\n",
       "    </tr>\n",
       "    <tr>\n",
       "      <td>2</td>\n",
       "      <td>0.0</td>\n",
       "      <td>stinkbugsinfest</td>\n",
       "      <td>174</td>\n",
       "      <td>1.532508e+09</td>\n",
       "      <td>1906</td>\n",
       "      <td>offmychest</td>\n",
       "      <td>husband boyfriend</td>\n",
       "      <td>I&lt;U+0092&gt;m glad you shared your story, thank you.</td>\n",
       "      <td>8</td>\n",
       "      <td>91px39</td>\n",
       "      <td>3</td>\n",
       "    </tr>\n",
       "    <tr>\n",
       "      <td>3</td>\n",
       "      <td>1.0</td>\n",
       "      <td>plspmmepuppies</td>\n",
       "      <td>185</td>\n",
       "      <td>1.532510e+09</td>\n",
       "      <td>566</td>\n",
       "      <td>offmychest</td>\n",
       "      <td>husband boyfriend</td>\n",
       "      <td>I love how deep this is.</td>\n",
       "      <td>6</td>\n",
       "      <td>91px39</td>\n",
       "      <td>4</td>\n",
       "    </tr>\n",
       "    <tr>\n",
       "      <td>4</td>\n",
       "      <td>1.0</td>\n",
       "      <td>plspmmepuppies</td>\n",
       "      <td>185</td>\n",
       "      <td>1.532510e+09</td>\n",
       "      <td>566</td>\n",
       "      <td>offmychest</td>\n",
       "      <td>husband boyfriend</td>\n",
       "      <td>One of the most touching things I&lt;U+0092&gt;ve ev...</td>\n",
       "      <td>12</td>\n",
       "      <td>91px39</td>\n",
       "      <td>5</td>\n",
       "    </tr>\n",
       "  </tbody>\n",
       "</table>\n",
       "</div>"
      ],
      "text/plain": [
       "   indexid           author  nchar   created_utc  score   subreddit  \\\n",
       "0      0.0  stinkbugsinfest    174  1.532508e+09   1906  offmychest   \n",
       "1      0.0  stinkbugsinfest    174  1.532508e+09   1906  offmychest   \n",
       "2      0.0  stinkbugsinfest    174  1.532508e+09   1906  offmychest   \n",
       "3      1.0   plspmmepuppies    185  1.532510e+09    566  offmychest   \n",
       "4      1.0   plspmmepuppies    185  1.532510e+09    566  offmychest   \n",
       "\n",
       "               label                                                 V1  \\\n",
       "0  husband boyfriend  You are quite the writer and have a deep sense...   \n",
       "1  husband boyfriend            May your life continue to be rewarding.   \n",
       "2  husband boyfriend  I<U+0092>m glad you shared your story, thank you.   \n",
       "3  husband boyfriend                           I love how deep this is.   \n",
       "4  husband boyfriend  One of the most touching things I<U+0092>ve ev...   \n",
       "\n",
       "   wordcount      id  sentenceid  \n",
       "0         15  91px39           1  \n",
       "1          7  91px39           2  \n",
       "2          8  91px39           3  \n",
       "3          6  91px39           4  \n",
       "4         12  91px39           5  "
      ]
     },
     "execution_count": 54,
     "metadata": {},
     "output_type": "execute_result"
    }
   ],
   "source": [
    "raw_data = pd.read_csv(unlabeled_data_path)\n",
    "raw_data.head()"
   ]
  },
  {
   "cell_type": "code",
   "execution_count": 55,
   "metadata": {},
   "outputs": [],
   "source": [
    "training_unlabeled_data = {}\n",
    "for i in range(0, len(raw_data['sentenceid'])):\n",
    "    training_unlabeled_data[raw_data['sentenceid'][i]] = [raw_data['label'][i], raw_data['V1'][i]]"
   ]
  },
  {
   "cell_type": "code",
   "execution_count": 57,
   "metadata": {},
   "outputs": [
    {
     "data": {
      "text/plain": [
       "['husband boyfriend',\n",
       " 'You are quite the writer and have a deep sense of introspection, beauty and kindness.']"
      ]
     },
     "execution_count": 57,
     "metadata": {},
     "output_type": "execute_result"
    }
   ],
   "source": [
    "training_unlabeled_data[1]"
   ]
  },
  {
   "cell_type": "code",
   "execution_count": 56,
   "metadata": {},
   "outputs": [
    {
     "data": {
      "text/plain": [
       "420607"
      ]
     },
     "execution_count": 56,
     "metadata": {},
     "output_type": "execute_result"
    }
   ],
   "source": [
    "len(training_unlabeled_data)"
   ]
  },
  {
   "cell_type": "code",
   "execution_count": 58,
   "metadata": {},
   "outputs": [],
   "source": [
    "import pickle\n",
    "with open('./processed_data/train_unlabeled_data.pkl', 'wb') as f:\n",
    "    pickle.dump(training_unlabeled_data, f)"
   ]
  },
  {
   "cell_type": "code",
   "execution_count": null,
   "metadata": {},
   "outputs": [],
   "source": []
  }
 ],
 "metadata": {
  "kernelspec": {
   "display_name": "Python 3",
   "language": "python",
   "name": "python3"
  },
  "language_info": {
   "codemirror_mode": {
    "name": "ipython",
    "version": 3
   },
   "file_extension": ".py",
   "mimetype": "text/x-python",
   "name": "python",
   "nbconvert_exporter": "python",
   "pygments_lexer": "ipython3",
   "version": "3.6.9"
  }
 },
 "nbformat": 4,
 "nbformat_minor": 4
}
